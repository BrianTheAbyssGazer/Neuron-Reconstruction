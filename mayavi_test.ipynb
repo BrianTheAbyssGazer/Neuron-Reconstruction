{
 "cells": [
  {
   "cell_type": "code",
   "execution_count": 1,
   "id": "6d8bcc49",
   "metadata": {},
   "outputs": [
    {
     "name": "stdout",
     "output_type": "stream",
     "text": [
      "10\n",
      "\n",
      "|----------|       soma(0-1)\n",
      "\n"
     ]
    },
    {
     "data": {
      "text/plain": [
       "1.0"
      ]
     },
     "execution_count": 1,
     "metadata": {},
     "output_type": "execute_result"
    }
   ],
   "source": [
    "from neuron import h\n",
    "import numpy as np\n",
    "soma = h.Section(name='soma')\n",
    "soma.nseg = 10\n",
    "soma.Ra = 100\n",
    "soma.L = 1000\n",
    "diam = np.linspace(1,10,11)\n",
    "for i,seg in enumerate(soma.allseg()):\n",
    "    seg.diam = diam[i-1]\n",
    "x = np.linspace(0, 100, 10)\n",
    "print(np.size(x))\n",
    "y = 17 * np.sin(x)\n",
    "z = 17 * np.cos(x)\n",
    "xvec = h.Vector(x)\n",
    "yvec = h.Vector(y)\n",
    "zvec = h.Vector(z)\n",
    "dvec = h.Vector([1] * len(x))\n",
    "connections=np.zeros([len(x)-1,2])\n",
    "connections[:,0]=np.linspace(1,len(x)-1,len(x)-1)\n",
    "connections[:,1]=np.linspace(0,len(x)-2,len(x)-1)\n",
    "\n",
    "\n",
    "h.pt3dadd(xvec, yvec, zvec, dvec, sec=soma)\n",
    "\n",
    "soma.insert('hh')\n",
    "for i,seg in enumerate(soma):\n",
    "    seg.hh.gnabar = 0.12  # Sodium conductance in S/cm2\n",
    "    seg.hh.gkbar = 0.036  # Potassium conductance in S/cm2\n",
    "    seg.hh.gl = 0.0003    # Leak conductance in S/cm2\n",
    "    seg.hh.el = -54.3     # Reversal potential in mV\n",
    "#stim = h.IClamp(soma(0.5))\n",
    "#stim.delay = 10\n",
    "#stim.dur = 1\n",
    "#stim.amp = 0.001\n",
    "\n",
    "v_vec = h.Vector()        # Membrane potential vector\n",
    "t_vec = h.Vector()        # Time stamp vector\n",
    "v_vec.record(soma(0.5)._ref_v)\n",
    "t_vec.record(h._ref_t)\n",
    "simdur = 25.0\n",
    "h.load_file('stdrun.hoc')\n",
    "h.finitialize(-70)\n",
    "h.continuerun(40)\n",
    "h.topology()"
   ]
  },
  {
   "cell_type": "markdown",
   "id": "e38bb136",
   "metadata": {},
   "source": [
    "'Accent' or 'Blues' or 'BrBG' or 'BuGn' or 'BuPu' or 'CMRmap' or 'Dark2' or 'GnBu' or 'Greens' or 'Greys' or 'OrRd' or 'Oranges' or 'PRGn' or 'Paired' or 'Pastel1' or 'Pastel2' or 'PiYG' or 'PuBu' or 'PuBuGn' or 'PuOr' or 'PuRd' or 'Purples' or 'RdBu' or 'RdGy' or 'RdPu' or 'RdYlBu' or 'RdYlGn' or 'Reds' or 'Set1' or 'Set2' or 'Set3' or 'Spectral' or 'Vega10' or 'Vega20' or 'Vega20b' or 'Vega20c' or 'Wistia' or 'YlGn' or 'YlGnBu' or 'YlOrBr' or 'YlOrRd' or 'afmhot' or 'autumn' or 'binary' or 'black-white' or 'blue-red' or 'bone' or 'brg' or 'bwr' or 'cool' or 'coolwarm' or 'copper' or 'cubehelix' or 'file' or 'flag' or 'gist_earth' or 'gist_gray' or 'gist_heat' or 'gist_ncar' or 'gist_rainbow' or 'gist_stern' or 'gist_yarg' or 'gnuplot' or 'gnuplot2' or 'gray' or 'hot' or 'hsv' or 'inferno' or 'jet' or 'magma' or 'nipy_spectral' or 'ocean' or 'pink' or 'plasma' or 'prism' or 'rainbow' or 'seismic' or 'spectral' or 'spring' or 'summer' or 'terrain' or 'viridis' or 'winter'"
   ]
  },
  {
   "cell_type": "code",
   "execution_count": 4,
   "id": "f1bb65a1",
   "metadata": {},
   "outputs": [],
   "source": [
    "from mayavi import mlab\n",
    "\n",
    "points = mlab.pipeline.scalar_scatter(x, y, z, diam[1:]/2.0)\n",
    "dataset = points.mlab_source.dataset\n",
    "dataset.point_data.get_array(0).name = 'diameter'\n",
    "dataset.lines = connections\n",
    "dataset.point_data.update()\n",
    "# The tube\n",
    "src = mlab.pipeline.set_active_attribute(points, point_scalars='diameter')\n",
    "stripper = mlab.pipeline.stripper(src)\n",
    "\n",
    "\n",
    "tube = mlab.pipeline.tube(stripper, tube_sides = 6, tube_radius = 1)\n",
    "tube.filter.capping = True\n",
    "#        tube.filter.use_default_normal = False\n",
    "tube.filter.vary_radius = 'vary_radius_by_absolute_scalar'\n",
    "\n",
    "tube.children = [] # Removing the old ones \n",
    "\n",
    "potential = np.linspace(1,91,len(x))\n",
    "array_id = dataset.point_data.add_array(potential)\n",
    "dataset.point_data.get_array(array_id).name = 'voltage'\n",
    "dataset.point_data.update()\n",
    "src2 = mlab.pipeline.set_active_attribute(tube, \n",
    "                                            point_scalars='voltage')\n",
    "surf = mlab.pipeline.surface(src2, colormap='gist_heat')\n",
    "\n",
    "cb=mlab.colorbar(object=surf,nb_labels=10)\n",
    "lut=surf.module_manager.scalar_lut_manager.lut.table.to_array()\n",
    "'''\n",
    "lut = np.zeros([256,4])\n",
    "\n",
    "lut[0:90,1]=np.zeros(90)\n",
    "lut[90:180,1]=np.linspace(1,90,90)\n",
    "lut[180:,1]=np.zeros(76)+90\n",
    "\n",
    "lut[0:180,0]=np.zeros(180)\n",
    "lut[180:,0]=np.linspace(1,76,76)\n",
    "\n",
    "lut[0:90,2]=np.linspace(0,90,90)\n",
    "lut[90:,2]=np.zeros(166)+90\n",
    "'''\n",
    "\n",
    "lut[:,3]=np.linspace(0,255,256)\n",
    "lut[0:10,3]=np.zeros(10)+10\n",
    "\n",
    "surf.module_manager.scalar_lut_manager.lut.table = lut\n",
    "surf.module_manager.scalar_lut_manager.use_default_range=False\n",
    "\n",
    "@mlab.animate(delay=100)\n",
    "def anim():\n",
    "    f = mlab.gcf()\n",
    "    for i in range(41):\n",
    "        array_id = dataset.point_data.add_array(np.ones(10)*i*2)\n",
    "        dataset.point_data.get_array(array_id).name = 'voltage'\n",
    "        dataset.point_data.update()\n",
    "        \n",
    "        # Updating the dataset\n",
    "        ms = surf.mlab_source\n",
    "        ms.m_data.update()\n",
    "\n",
    "        #surf.mlab_source.voltage = np.ones(10)*i*200\n",
    "        f.scene.render()\n",
    "        yield\n",
    "anim()\n",
    "mlab.show()\n"
   ]
  }
 ],
 "metadata": {
  "interpreter": {
   "hash": "1baa965d5efe3ac65b79dfc60c0d706280b1da80fedb7760faf2759126c4f253"
  },
  "kernelspec": {
   "display_name": "Python 3.8.5 64-bit",
   "name": "python3"
  },
  "language_info": {
   "codemirror_mode": {
    "name": "ipython",
    "version": 3
   },
   "file_extension": ".py",
   "mimetype": "text/x-python",
   "name": "python",
   "nbconvert_exporter": "python",
   "pygments_lexer": "ipython3",
   "version": "3.7.11"
  }
 },
 "nbformat": 4,
 "nbformat_minor": 5
}
