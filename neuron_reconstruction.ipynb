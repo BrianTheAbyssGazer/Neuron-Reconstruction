{
 "cells": [
  {
   "cell_type": "code",
   "execution_count": 4,
   "metadata": {},
   "outputs": [],
   "source": [
    "from PIL import Image\n",
    "import numpy as np\n",
    "import skimage\n",
    "import skimage.morphology\n",
    "import skimage.feature\n",
    "import skan\n",
    "from scipy import ndimage as ndi\n",
    "from tifffile import imsave\n",
    "from scipy.interpolate import interp1d\n",
    "\n"
   ]
  },
  {
   "cell_type": "code",
   "execution_count": 13,
   "metadata": {},
   "outputs": [
    {
     "name": "stdout",
     "output_type": "stream",
     "text": [
      "warning, more than 2 children attached to branch  305\n",
      "warning, more than 2 parents attached to branch  846\n",
      "warning, more than 2 parents attached to branch  874\n",
      "warning, more than 2 children attached to branch  1212\n"
     ]
    }
   ],
   "source": [
    "skeleton_node = np.zeros([3,np.shape(skeleton_image)[0],np.shape(skeleton_image)[1],np.shape(skeleton_image)[2]])\n",
    "skeleton_node[0,:,:,:] = skeleton_image\n",
    "\n",
    "summary=skan.summarize(skeleton_obj)\n",
    "net = np.zeros([5,len(summary.index)])\n",
    "net[0,:]=summary['skeleton-id']\n",
    "root=[]\n",
    "for i in summary.index:\n",
    "    if(summary['branch-type'][i]==1):\n",
    "            root.append(i)\n",
    "    for j in summary.index[i+1:]:\n",
    "        if(summary['node-id-dst'][i]==summary['node-id-src'][j]):\n",
    "            if(net[1,i]==0):\n",
    "                net[1,i] = summary['skeleton-id'][j]\n",
    "            elif(net[2,i]==0):\n",
    "                net[2,i] = summary['skeleton-id'][j]\n",
    "            else:\n",
    "                skeleton_node[1,int(summary['image-coord-dst-0'][i]),int(summary['image-coord-dst-1'][i]),int(summary['image-coord-dst-2'][i])] = 1\n",
    "                print(\"warning, more than 2 children attached to branch \",i)\n",
    "            if(net[3,j]==0):\n",
    "                net[3,j] = summary['skeleton-id'][i]\n",
    "            elif(net[4,j]==0):\n",
    "                net[4,j] = summary['skeleton-id'][i]\n",
    "            else:\n",
    "                skeleton_node[1,int(summary['image-coord-dst-0'][i]),int(summary['image-coord-dst-1'][i]),int(summary['image-coord-dst-2'][i])] = 1\n",
    "                print(\"warning, more than 2 parents attached to branch \",j)\n"
   ]
  },
  {
   "cell_type": "code",
   "execution_count": 14,
   "metadata": {},
   "outputs": [
    {
     "name": "stdout",
     "output_type": "stream",
     "text": [
      "(3, 512, 512, 271)\n"
     ]
    }
   ],
   "source": [
    "print(np.shape(skeleton_node))\n",
    "imsave('images/skeleton.tif',np.einsum('ijk->kij', ndi.binary_dilation(skeleton_node[0,:,:,:])))\n",
    "skeleton_node[2,:,:,:]=np.load('np arrays/foreground.npy')\n",
    "imsave('images/skeleton_node.tif',np.einsum('ijkl->lijk', skeleton_node))"
   ]
  },
  {
   "cell_type": "code",
   "execution_count": null,
   "metadata": {},
   "outputs": [],
   "source": [
    "soma_mask = ndi.binary_dilation(np.load('np arrays/soma_mask.npy'))\n",
    "roots=[i for i in summary.index if (summary['branch-type'][i] == 1 and\n",
    "\t\t\t( soma_mask[int(summary['image-coord-dst-0'][i]),int(summary['image-coord-dst-1'][i]),int(summary['image-coord-dst-2'][i])]==1 or\n",
    "            soma_mask[int(summary['image-coord-src-0'][i]),int(summary['image-coord-src-1'][i]),int(summary['image-coord-src-2'][i])]==1 )\n",
    "            )]\n"
   ]
  }
 ],
 "metadata": {
  "kernelspec": {
   "display_name": "Python 3",
   "language": "python",
   "name": "python3"
  },
  "language_info": {
   "codemirror_mode": {
    "name": "ipython",
    "version": 3
   },
   "file_extension": ".py",
   "mimetype": "text/x-python",
   "name": "python",
   "nbconvert_exporter": "python",
   "pygments_lexer": "ipython3",
   "version": "3.8.8"
  }
 },
 "nbformat": 4,
 "nbformat_minor": 4
}
