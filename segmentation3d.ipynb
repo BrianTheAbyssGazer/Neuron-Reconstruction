{
 "cells": [
  {
   "cell_type": "code",
   "execution_count": 1,
   "id": "1c80bf11",
   "metadata": {},
   "outputs": [
    {
     "name": "stdout",
     "output_type": "stream",
     "text": [
      "0.9307008403049115 -0.06929915969508844\n"
     ]
    }
   ],
   "source": [
    "from PIL import Image\n",
    "import numpy as np\n",
    "from tifffile import imsave\n",
    "import math\n",
    "import matplotlib.pyplot as plt\n",
    "import torch\n",
    "CURVATURE_INCREMENT = 3\n",
    "CURVATURE_ITERATION = 3\n",
    "FRAME_SIZE = 40\n",
    "HALF_SIZE = int(FRAME_SIZE/2)\n",
    "DECAY_RATE = 1\n",
    "WIDTH = 4\n",
    "%matplotlib inline\n",
    "Second_Layer_Kernel_Size = 151\n",
    "CURVATURE = 10\n",
    "    \n",
    "\n",
    "def save_image_as_tiff(image,filename):\n",
    "\timage = np.einsum('ijk->kij', image)\n",
    "\timage = np.flip(image, axis=(1, 2))\n",
    "\timsave(filename,image)\n",
    "\n",
    "def Distance2Line(i, j, a, b, c):\n",
    "    return abs(a * i + b * j + c) / math.sqrt(a**2 + b**2)\n",
    "\n",
    "class LayerGeneration:\n",
    "    def GenerateTopLayerWeights(angle, curvature):\n",
    "        weight = np.zeros([FRAME_SIZE,FRAME_SIZE])\n",
    "        a = math.cos(angle)\n",
    "        b = math.sin(angle)\n",
    "        c = -HALF_SIZE * (a + b)\n",
    "        if curvature == 0:\n",
    "            for i in range(FRAME_SIZE):\n",
    "                for j in range(FRAME_SIZE):\n",
    "                    dist = Distance2Line(i, j, a, b, c)\n",
    "                    if dist < WIDTH:\n",
    "                        weight[i,j] = 1\n",
    "                    elif dist < DECAY_RATE:\n",
    "                        weight[i,j] = 1 - (dist-WIDTH) / DECAY_RATE\n",
    "                    else:\n",
    "                        weight[i,j] = 0 \n",
    "        elif curvature > 0:\n",
    "            r = (curvature * curvature + HALF_SIZE * HALF_SIZE) / (2 * curvature)\n",
    "            x0 = (r * math.sqrt(a * a + b * b) + HALF_SIZE * b * b / a - HALF_SIZE * b - c) / (a + b * b / a)\n",
    "            y0 = HALF_SIZE + (x0 - HALF_SIZE) * b / a\n",
    "            for i in range(FRAME_SIZE):\n",
    "                for j in range(FRAME_SIZE):\n",
    "                    dist = math.sqrt((i - x0)**2 + (j - y0)**2)\n",
    "                    if (dist > r - WIDTH) and (dist < r + WIDTH):\n",
    "                        weight[i,j] = 1\n",
    "                    elif (dist > r - DECAY_RATE) and (dist < r + DECAY_RATE):\n",
    "                        weight[i,j] =  1 - (np.abs(r - dist)-WIDTH) / DECAY_RATE\n",
    "                    else:\n",
    "                        weight[i,j] = 0    \n",
    "        return weight - np.mean(weight)\n",
    "   \n",
    "    \n",
    "    def GenerateSecondLayerWeights(radius):\n",
    "        L = np.arange(-(Second_Layer_Kernel_Size-1)/2, (Second_Layer_Kernel_Size-1)/2 + 1)\n",
    "        L0 = np.arange(int(-Second_Layer_Kernel_Size/4), int(Second_Layer_Kernel_Size/4 + 1))\n",
    "        Z, X, Y = np.meshgrid(L0, L, L)\n",
    "        weight = X ** 2 + Y ** 2 + 4*(Z ** 2)\n",
    "        weight = np.logical_and(weight <= radius ** 2, weight >= (radius-DECAY_RATE)**2).astype(float)\n",
    "        return np.einsum('kij->ijk', weight*255)-np.mean(weight)\n",
    "    \n",
    "    \n",
    "    def GenerateThirdLayerWeights(radius):\n",
    "        L = np.arange(-radius, radius + 1)\n",
    "        L0 = np.arange(int(-radius/2), int(radius/2 + 1))\n",
    "        Z, X, Y = np.meshgrid(L0, L, L)\n",
    "        weight = X ** 2 + Y ** 2 + 4*(Z ** 2)\n",
    "        weight = np.logical_and(weight <= radius ** 2, weight >= (radius-DECAY_RATE)**2).astype(float)\n",
    "        return np.einsum('kij->ijk', weight*255)-np.mean(weight)\n",
    "\n",
    "\n",
    "def ReadDataFromTif(nframes, h, w):\n",
    "    img_r = np.zeros((h, w, nframes))\n",
    "    img_g = np.zeros((h, w, nframes))\n",
    "    img_b = np.zeros((h, w, nframes))\n",
    "    img_a = np.zeros((h, w, nframes))\n",
    "    for i in range(nframes):\n",
    "        img.seek(i*4)\n",
    "        img_r[:, :, i] = np.array(img)\n",
    "        img.seek(i * 4 + 1)\n",
    "        img_g[:, :, i] = np.array(img)\n",
    "        img.seek(i * 4 + 2)\n",
    "        img_b[:, :, i] = np.array(img)\n",
    "        img.seek(i * 4 + 3)\n",
    "        img_a[:, :, i] = np.array(img)\n",
    "    img_rgba = np.max(np.stack([img_r, img_g, img_b, img_a]), axis=0)\n",
    "    return img_rgba\n",
    "        \n",
    "def Read1FrameFromTif(nframes, h, w):\n",
    "    img.seek(nframes * 4 + 1)\n",
    "    img_r = np.array(img)\n",
    "    img.seek(nframes * 4 + 2)\n",
    "    img_g = np.array(img)\n",
    "    img.seek(nframes * 4 + 3)\n",
    "    img_b = np.array(img)\n",
    "    img.seek(nframes * 4 + 4)\n",
    "    img_a = np.array(img)\n",
    "    img_rgba = np.max(np.stack([img_r, img_g, img_b, img_a]), axis=0)\n",
    "    return img_rgba\n",
    "\n",
    "def Layer1ArrayConv(image,pattern,normalization):\n",
    "    #image = np.einsum('ijk->kij', image)\n",
    "    torch.cuda.empty_cache()\n",
    "    pattern_tensor = torch.zeros(1, 1, np.shape(pattern)[0], np.shape(pattern)[1], np.shape(pattern)[2])\n",
    "    pattern_tensor[0,0,:,:,:] = torch.from_numpy(pattern)\n",
    "    image_tensor = torch.zeros(1,1,np.shape(image)[0],np.shape(image)[1],np.shape(image)[2])\n",
    "    image_tensor[0,0,:,:,:] = torch.from_numpy(image)\n",
    "    sigmoid_f = torch.nn.Sigmoid()\n",
    "    image_tensor = (sigmoid_f(image_tensor*2)-0.5)*0.5\n",
    "    layer1 = torch.nn.Conv3d(1, 1, (np.shape(pattern)[0], np.shape(pattern)[1], np.shape(pattern)[2])).to('cuda')\n",
    "    layer1.load_state_dict({'weight': pattern_tensor}, strict=False)\n",
    "    pad_width = np.shape(pattern)[2]\n",
    "    image_tensor=torch.nn.functional.pad(image_tensor, tuple((int(pad_width/2), int(pad_width/2), pad_width, pad_width, pad_width, pad_width))).to('cuda')\n",
    "    #print(torch.cuda.memory_allocated())\n",
    "    out_layer1=layer1(image_tensor)\n",
    "    out_layer1=out_layer1.to('cpu')\n",
    "    return out_layer1.detach().numpy()[0,0,:,:,:]\n",
    "\n",
    "def Layer1TensorConv(image_tensor,pattern):\n",
    "    torch.cuda.empty_cache()\n",
    "    pattern_tensor = torch.zeros(1, 1, np.shape(pattern)[0], np.shape(pattern)[1], np.shape(pattern)[2])\n",
    "    pattern_tensor[0,0,:,:,:] = torch.from_numpy(pattern)\n",
    "    layer1 = torch.nn.Conv3d(1, 1, (np.shape(pattern)[0], np.shape(pattern)[1], np.shape(pattern)[2])).to('cuda')\n",
    "    layer1.load_state_dict({'weight': pattern_tensor}, strict=False)\n",
    "    pad_width = np.shape(pattern)[2]\n",
    "    image_tensor=torch.nn.functional.pad(image_tensor, tuple((int(pad_width/2), int(pad_width/2), pad_width, pad_width, pad_width, pad_width))).to('cuda')\n",
    "    #print(torch.cuda.memory_allocated())\n",
    "    upsample3d=torch.nn.Upsample(scale_factor=(4,4,2),mode='nearest')\n",
    "    out_layer1=upsample3d(layer1(image_tensor))\n",
    "    out_layer1=out_layer1.to('cpu')\n",
    "    return out_layer1.detach().numpy()[0,0,:-3,:-3,:-1]\n",
    "\n",
    "img = Image.open('images/nTracer sample.tif')\n",
    "h, w = np.shape(img)\n",
    "nframes = int(img.n_frames/4)\n",
    "image=Read1FrameFromTif(72,h,w)\n",
    "image=image-np.min(image)-(np.max(image)-np.min(image))/2\n",
    "#fig=plt.figure()\n",
    "#plt.imshow(image)\n",
    "\n",
    "#pytorch convolution algorithm\n",
    "image=ReadDataFromTif(nframes,h,w)\n",
    "image=image-np.min(image)\n",
    "image=image/np.max(image)\n",
    "norm_offset=np.mean(image)*1.5\n",
    "image=image-norm_offset\n",
    "print(np.max(image),np.min(image))"
   ]
  },
  {
   "cell_type": "code",
   "execution_count": 2,
   "id": "d0afdec9",
   "metadata": {},
   "outputs": [],
   "source": [
    "Layer1out = np.zeros((image.shape[0]+1,image.shape[1]+1,image.shape[2]+1))\n",
    "#background\n",
    "pattern = np.zeros((4, 4, 2)) - norm_offset\n",
    "Layer1out = np.maximum(Layer1ArrayConv(image,pattern, False),Layer1out)\n",
    "np.save('np arrays/Layer1_channel0',Layer1out)"
   ]
  },
  {
   "cell_type": "code",
   "execution_count": 3,
   "id": "42979601",
   "metadata": {},
   "outputs": [],
   "source": [
    "#pooling\n",
    "image_tensor = torch.zeros(1,1,np.shape(image)[0],np.shape(image)[1],np.shape(image)[2])\n",
    "image_tensor[0,0,:,:,:] = torch.from_numpy(image)\n",
    "pool = torch.nn.AvgPool3d((4,4,2))\n",
    "pooled_image_tensor = pool(image_tensor)\n",
    "pooled_image_tensor = pooled_image_tensor.to('cpu')\n",
    "pooled_image = pooled_image_tensor.detach().numpy()[0,0,:,:,:]\n",
    "imsave('images/pooled_image.tif',np.einsum('ijk->kij', pooled_image.astype(float)))"
   ]
  },
  {
   "cell_type": "code",
   "execution_count": 4,
   "id": "abb00e73",
   "metadata": {},
   "outputs": [
    {
     "name": "stdout",
     "output_type": "stream",
     "text": [
      "20\n",
      "30\n",
      "40\n",
      "50\n"
     ]
    }
   ],
   "source": [
    "#membrane\n",
    "Layer1out = np.zeros((image.shape[0]+1,image.shape[1]+1,image.shape[2]+1))\n",
    "for R in range(20,60,10):\n",
    "    pattern = np.load('np arrays/Membrane_Pattern_'+str(R)+'.npy') - norm_offset\n",
    "    for i in range(pattern.shape[0]):\n",
    "        Layer1out = np.maximum(Layer1TensorConv(pooled_image_tensor,pattern[i,:,:,:]), Layer1out)\n",
    "    print(R)\n",
    "np.save('np arrays/Layer1_channel2',Layer1out)"
   ]
  },
  {
   "cell_type": "code",
   "execution_count": 5,
   "id": "7c3bf94b",
   "metadata": {},
   "outputs": [
    {
     "name": "stdout",
     "output_type": "stream",
     "text": [
      "1\n",
      "1\n"
     ]
    }
   ],
   "source": [
    "#dendrites\n",
    "Layer1out = np.zeros((image.shape[0]+1,image.shape[1]+1,image.shape[2]+1))\n",
    "pattern = np.load('np arrays/Line_Pattern.npy') - norm_offset\n",
    "for i in range(pattern.shape[0]):\n",
    "    Layer1out =np.maximum(Layer1ArrayConv(image,pattern[i,:,:,:], False),Layer1out)\n",
    "print('1')\n",
    "\n",
    "#pooling dendrites\n",
    "for i in range(pattern.shape[0]):\n",
    "    Layer1out =np.maximum(Layer1TensorConv(pooled_image_tensor,pattern[i,:,:,:]),Layer1out)\n",
    "print('1')\n",
    "np.save('np arrays/Layer1_channel1',Layer1out)"
   ]
  },
  {
   "cell_type": "code",
   "execution_count": 6,
   "id": "78a2e4b5",
   "metadata": {},
   "outputs": [
    {
     "name": "stdout",
     "output_type": "stream",
     "text": [
      "1.0\n",
      "1.0\n",
      "1.0\n"
     ]
    }
   ],
   "source": [
    "Layer1out = np.zeros((3,image.shape[0],image.shape[1],image.shape[2]))\n",
    "Layer1out[2,:,:,:] = np.load('np arrays/Layer1_channel0.npy')[1:,1:,1:]\n",
    "Layer1out[0,:,:,:] = np.load('np arrays/Layer1_channel2.npy')[1:,1:,1:]\n",
    "Layer1out[1,:,:,:] = np.load('np arrays/Layer1_channel1.npy')[1:,1:,1:]\n",
    "\n",
    "for i in range(3):\n",
    "    Layer1out[i,:,:,:]=Layer1out[i,:,:,:]-np.min(Layer1out[i,:,:,:])\n",
    "    Layer1out[i,:,:,:]=Layer1out[i,:,:,:]/np.max(Layer1out[i,:,:,:])\n",
    "    print(np.max(Layer1out[i,:,:,:]))\n",
    "#Layer1out[2,:,:,:]=Layer1out[2,:,:,:]*1.2\n",
    "Layer1out[1,:,:,:]=Layer1out[1,:,:,:]*0.7\n",
    "Layer1out[0,:,:,:]=Layer1out[0,:,:,:]*0.7\n",
    "\n",
    "#Layer1out[2,:,:,:] = Layer1out[2,:,:,:] * (np.max(image) - image)\n",
    "#Layer1out[1,:,:,:] = Layer1out[1,:,:,:] * (image + norm_offset)\n",
    "#Layer1out[0,:,:,:] = Layer1out[0,:,:,:] * (image + norm_offset)"
   ]
  },
  {
   "cell_type": "code",
   "execution_count": 7,
   "id": "a06903c8",
   "metadata": {},
   "outputs": [],
   "source": [
    "Layer1out_max_index = np.argmax(Layer1out,axis=0)\n",
    "Layer1out_mask = np.zeros(Layer1out.shape)\n",
    "for i in range(3):\n",
    "    Layer1out_mask[i,:,:,:]=(Layer1out_max_index==i)\n",
    "Layer1out_mask = np.einsum('ijkl->lijk', Layer1out_mask)\n",
    "imsave('images/Layer1_Segmentation_Mask.tif',Layer1out_mask.astype(float))\n",
    "imsave('images/Layer1_Segmentation.tif',np.einsum('ijkl->lijk', Layer1out))"
   ]
  },
  {
   "cell_type": "code",
   "execution_count": 47,
   "id": "474223ea",
   "metadata": {},
   "outputs": [
    {
     "name": "stdout",
     "output_type": "stream",
     "text": [
      "0.0 220.7521209716797\n"
     ]
    }
   ],
   "source": [
    "Layer1outmask=Layer1out[:,0,:,:]\n",
    "print(np.min(Layer1outmask),np.max(Layer1outmask))\n",
    "Layer1outmask=Layer1outmask-np.min(Layer1outmask)-(np.max(Layer1outmask)-np.min(Layer1outmask))*1/10\n",
    "Layer1outmask[Layer1outmask<0]=0\n",
    "\n",
    "#Layer1outmask = np.flip(Layer1outmask, axis=(1, 2))\n",
    "imsave('C:/Users/v-brianma/Neuron Reconstruction/Layer1ConvOut.tif',Layer1outmask)"
   ]
  }
 ],
 "metadata": {
  "interpreter": {
   "hash": "1baa965d5efe3ac65b79dfc60c0d706280b1da80fedb7760faf2759126c4f253"
  },
  "kernelspec": {
   "display_name": "Python 3",
   "language": "python",
   "name": "python3"
  },
  "language_info": {
   "codemirror_mode": {
    "name": "ipython",
    "version": 3
   },
   "file_extension": ".py",
   "mimetype": "text/x-python",
   "name": "python",
   "nbconvert_exporter": "python",
   "pygments_lexer": "ipython3",
   "version": "3.6.13"
  }
 },
 "nbformat": 4,
 "nbformat_minor": 5
}
