{
 "cells": [
  {
   "cell_type": "code",
   "execution_count": 3,
   "id": "1c80bf11",
   "metadata": {},
   "outputs": [
    {
     "ename": "FileNotFoundError",
     "evalue": "[Errno 2] No such file or directory: 'C:/Users/brian/Documents/nTracer sample.tif'",
     "output_type": "error",
     "traceback": [
      "\u001b[1;31m---------------------------------------------------------------------------\u001b[0m",
      "\u001b[1;31mFileNotFoundError\u001b[0m                         Traceback (most recent call last)",
      "\u001b[1;32mC:\\Users\\V-BRIA~1\\AppData\\Local\\Temp/ipykernel_10884/3473566201.py\u001b[0m in \u001b[0;36m<module>\u001b[1;34m\u001b[0m\n\u001b[0;32m    125\u001b[0m     \u001b[1;32mreturn\u001b[0m \u001b[0mout_layer1\u001b[0m\u001b[1;33m.\u001b[0m\u001b[0mdetach\u001b[0m\u001b[1;33m(\u001b[0m\u001b[1;33m)\u001b[0m\u001b[1;33m.\u001b[0m\u001b[0mnumpy\u001b[0m\u001b[1;33m(\u001b[0m\u001b[1;33m)\u001b[0m\u001b[1;33m\u001b[0m\u001b[1;33m\u001b[0m\u001b[0m\n\u001b[0;32m    126\u001b[0m \u001b[1;33m\u001b[0m\u001b[0m\n\u001b[1;32m--> 127\u001b[1;33m \u001b[0mimg\u001b[0m \u001b[1;33m=\u001b[0m \u001b[0mImage\u001b[0m\u001b[1;33m.\u001b[0m\u001b[0mopen\u001b[0m\u001b[1;33m(\u001b[0m\u001b[1;34m'C:/Users/brian/Documents/nTracer sample.tif'\u001b[0m\u001b[1;33m)\u001b[0m\u001b[1;33m\u001b[0m\u001b[1;33m\u001b[0m\u001b[0m\n\u001b[0m\u001b[0;32m    128\u001b[0m \u001b[0mh\u001b[0m\u001b[1;33m,\u001b[0m \u001b[0mw\u001b[0m \u001b[1;33m=\u001b[0m \u001b[0mnp\u001b[0m\u001b[1;33m.\u001b[0m\u001b[0mshape\u001b[0m\u001b[1;33m(\u001b[0m\u001b[0mimg\u001b[0m\u001b[1;33m)\u001b[0m\u001b[1;33m\u001b[0m\u001b[1;33m\u001b[0m\u001b[0m\n\u001b[0;32m    129\u001b[0m \u001b[0mnframes\u001b[0m \u001b[1;33m=\u001b[0m \u001b[0mint\u001b[0m\u001b[1;33m(\u001b[0m\u001b[0mimg\u001b[0m\u001b[1;33m.\u001b[0m\u001b[0mn_frames\u001b[0m\u001b[1;33m/\u001b[0m\u001b[1;36m4\u001b[0m\u001b[1;33m)\u001b[0m\u001b[1;33m\u001b[0m\u001b[1;33m\u001b[0m\u001b[0m\n",
      "\u001b[1;32mC:\\Program Files\\Python38\\lib\\site-packages\\PIL\\Image.py\u001b[0m in \u001b[0;36mopen\u001b[1;34m(fp, mode, formats)\u001b[0m\n\u001b[0;32m   2966\u001b[0m \u001b[1;33m\u001b[0m\u001b[0m\n\u001b[0;32m   2967\u001b[0m     \u001b[1;32mif\u001b[0m \u001b[0mfilename\u001b[0m\u001b[1;33m:\u001b[0m\u001b[1;33m\u001b[0m\u001b[1;33m\u001b[0m\u001b[0m\n\u001b[1;32m-> 2968\u001b[1;33m         \u001b[0mfp\u001b[0m \u001b[1;33m=\u001b[0m \u001b[0mbuiltins\u001b[0m\u001b[1;33m.\u001b[0m\u001b[0mopen\u001b[0m\u001b[1;33m(\u001b[0m\u001b[0mfilename\u001b[0m\u001b[1;33m,\u001b[0m \u001b[1;34m\"rb\"\u001b[0m\u001b[1;33m)\u001b[0m\u001b[1;33m\u001b[0m\u001b[1;33m\u001b[0m\u001b[0m\n\u001b[0m\u001b[0;32m   2969\u001b[0m         \u001b[0mexclusive_fp\u001b[0m \u001b[1;33m=\u001b[0m \u001b[1;32mTrue\u001b[0m\u001b[1;33m\u001b[0m\u001b[1;33m\u001b[0m\u001b[0m\n\u001b[0;32m   2970\u001b[0m \u001b[1;33m\u001b[0m\u001b[0m\n",
      "\u001b[1;31mFileNotFoundError\u001b[0m: [Errno 2] No such file or directory: 'C:/Users/brian/Documents/nTracer sample.tif'"
     ]
    }
   ],
   "source": [
    "from PIL import Image\n",
    "import numpy as np\n",
    "from tifffile import imsave\n",
    "import math\n",
    "import matplotlib.pyplot as plt\n",
    "import torch\n",
    "CURVATURE_INCREMENT = 3\n",
    "CURVATURE_ITERATION = 3\n",
    "FRAME_SIZE = 40\n",
    "HALF_SIZE = int(FRAME_SIZE/2)\n",
    "DECAY_RATE = 1\n",
    "WIDTH = 4\n",
    "%matplotlib inline\n",
    "Second_Layer_Kernel_Size = 151\n",
    "CURVATURE = 10\n",
    "    \n",
    "\n",
    "def save_image_as_tiff(image,filename):\n",
    "\timage = np.einsum('ijk->kij', image)\n",
    "\timage = np.flip(image, axis=(1, 2))\n",
    "\timsave(filename,image)\n",
    "\n",
    "def Distance2Line(i, j, a, b, c):\n",
    "    return abs(a * i + b * j + c) / math.sqrt(a**2 + b**2)\n",
    "\n",
    "class LayerGeneration:\n",
    "    def GenerateTopLayerWeights(angle, curvature):\n",
    "        weight = np.zeros([FRAME_SIZE,FRAME_SIZE])\n",
    "        a = math.cos(angle)\n",
    "        b = math.sin(angle)\n",
    "        c = -HALF_SIZE * (a + b)\n",
    "        if curvature == 0:\n",
    "            for i in range(FRAME_SIZE):\n",
    "                for j in range(FRAME_SIZE):\n",
    "                    dist = Distance2Line(i, j, a, b, c)\n",
    "                    if dist < WIDTH:\n",
    "                        weight[i,j] = 1\n",
    "                    elif dist < DECAY_RATE:\n",
    "                        weight[i,j] = 1 - (dist-WIDTH) / DECAY_RATE\n",
    "                    else:\n",
    "                        weight[i,j] = 0 \n",
    "        elif curvature > 0:\n",
    "            r = (curvature * curvature + HALF_SIZE * HALF_SIZE) / (2 * curvature)\n",
    "            x0 = (r * math.sqrt(a * a + b * b) + HALF_SIZE * b * b / a - HALF_SIZE * b - c) / (a + b * b / a)\n",
    "            y0 = HALF_SIZE + (x0 - HALF_SIZE) * b / a\n",
    "            for i in range(FRAME_SIZE):\n",
    "                for j in range(FRAME_SIZE):\n",
    "                    dist = math.sqrt((i - x0)**2 + (j - y0)**2)\n",
    "                    if (dist > r - WIDTH) and (dist < r + WIDTH):\n",
    "                        weight[i,j] = 1\n",
    "                    elif (dist > r - DECAY_RATE) and (dist < r + DECAY_RATE):\n",
    "                        weight[i,j] =  1 - (np.abs(r - dist)-WIDTH) / DECAY_RATE\n",
    "                    else:\n",
    "                        weight[i,j] = 0    \n",
    "        return weight - np.mean(weight)\n",
    "   \n",
    "    \n",
    "    def GenerateSecondLayerWeights(radius):\n",
    "        L = np.arange(-(Second_Layer_Kernel_Size-1)/2, (Second_Layer_Kernel_Size-1)/2 + 1)\n",
    "        L0 = np.arange(int(-Second_Layer_Kernel_Size/4), int(Second_Layer_Kernel_Size/4 + 1))\n",
    "        Z, X, Y = np.meshgrid(L0, L, L)\n",
    "        weight = X ** 2 + Y ** 2 + 4*(Z ** 2)\n",
    "        weight = np.logical_and(weight <= radius ** 2, weight >= (radius-DECAY_RATE)**2).astype(float)\n",
    "        return np.einsum('kij->ijk', weight*255)-np.mean(weight)\n",
    "    \n",
    "    \n",
    "    def GenerateThirdLayerWeights(radius):\n",
    "        L = np.arange(-radius, radius + 1)\n",
    "        L0 = np.arange(int(-radius/2), int(radius/2 + 1))\n",
    "        Z, X, Y = np.meshgrid(L0, L, L)\n",
    "        weight = X ** 2 + Y ** 2 + 4*(Z ** 2)\n",
    "        weight = np.logical_and(weight <= radius ** 2, weight >= (radius-DECAY_RATE)**2).astype(float)\n",
    "        return np.einsum('kij->ijk', weight*255)-np.mean(weight)\n",
    "\n",
    "\n",
    "    def GenerateDotPattern(radius):\n",
    "        weight = np.zeros([FRAME_SIZE,FRAME_SIZE])\n",
    "        for i in range(FRAME_SIZE):\n",
    "            for j in range(FRAME_SIZE):\n",
    "                if ((i - HALF_SIZE) ^ 2 + (j - HALF_SIZE) ^ 2 < radius ^ 2):\n",
    "                    weight[i,j] = 1\n",
    "                else:\n",
    "                    weight[i,j] = 0\n",
    "        return weight - np.mean(weight)\n",
    "\n",
    "\n",
    "def ReadDataFromTif(nframes, h, w):\n",
    "    img_r = np.zeros((h, w, nframes))\n",
    "    img_g = np.zeros((h, w, nframes))\n",
    "    img_b = np.zeros((h, w, nframes))\n",
    "    img_a = np.zeros((h, w, nframes))\n",
    "    for i in range(nframes - 1):\n",
    "        img.seek(i*4+1)\n",
    "        img_r[:, :, i] = np.array(img)\n",
    "        img.seek(i * 4 + 2)\n",
    "        img_g[:, :, i] = np.array(img)\n",
    "        img.seek(i * 4 + 3)\n",
    "        img_b[:, :, i] = np.array(img)\n",
    "        img.seek(i * 4 + 4)\n",
    "        img_a[:, :, i] = np.array(img)\n",
    "    img_rgba = np.max(np.stack([img_r, img_g, img_b, img_a]), axis=0)\n",
    "    return img_rgba\n",
    "        \n",
    "def Read1FrameFromTif(nframes, h, w):\n",
    "    img.seek(nframes * 4 + 1)\n",
    "    img_r = np.array(img)\n",
    "    img.seek(nframes * 4 + 2)\n",
    "    img_g = np.array(img)\n",
    "    img.seek(nframes * 4 + 3)\n",
    "    img_b = np.array(img)\n",
    "    img.seek(nframes * 4 + 4)\n",
    "    img_a = np.array(img)\n",
    "    img_rgba = np.max(np.stack([img_r, img_g, img_b, img_a]), axis=0)\n",
    "    return img_rgba\n",
    "\n",
    "def Layer1TorchConv(image,pattern,normalization):\n",
    "    #image = np.einsum('ijk->kij', image)\n",
    "    pattern_tensor = torch.zeros(pattern_distance_map.shape[0], 1, FRAME_SIZE, FRAME_SIZE)\n",
    "    pattern_tensor[:,0,:,:] = torch.from_numpy(pattern_distance_map)\n",
    "    image_tensor = torch.zeros(1,1,h,w)\n",
    "    image_tensor[0,0,:,:] = torch.from_numpy(image)\n",
    "    sigmoid_f = torch.nn.Sigmoid()\n",
    "    image_tensor = sigmoid_f(image_tensor*2)*0.5\n",
    "    torch.cuda.empty_cache()\n",
    "    layer1 = torch.nn.Conv2d(1, pattern_tensor.size(dim=0), (FRAME_SIZE, FRAME_SIZE))\n",
    "    layer1.load_state_dict({'weight': pattern_tensor}, strict=False)\n",
    "    image_tensor=torch.nn.functional.pad(image_tensor, tuple((HALF_SIZE, HALF_SIZE, HALF_SIZE, HALF_SIZE)))\n",
    "    out_layer1=layer1(image_tensor)\n",
    "    if(normalization==True):\n",
    "        pooling=torch.nn.AvgPool2d(FRAME_SIZE,stride=1)\n",
    "        normalization_map = pooling(image_tensor)\n",
    "        #print(normalization_map.size(),out_layer1.size())\n",
    "        for kernal_frame in range(out_layer1.size()[1]):\n",
    "            out_layer1[:,kernal_frame,:,:] = out_layer1[:,kernal_frame,:,:] - normalization_map * torch.sum(pattern_tensor[kernal_frame,:,:,:])\n",
    "    out_layer1=torch.max(out_layer1,1).values    \n",
    "    return out_layer1.detach().numpy()\n",
    "\n",
    "img = Image.open('C:/Users/brian/Documents/nTracer sample.tif')\n",
    "h, w = np.shape(img)\n",
    "nframes = int(img.n_frames/4)\n",
    "image=Read1FrameFromTif(72,h,w)\n",
    "image=image-np.min(image)-(np.max(image)-np.min(image))/2\n",
    "fig=plt.figure()\n",
    "plt.imshow(image)"
   ]
  },
  {
   "cell_type": "code",
   "execution_count": null,
   "metadata": {},
   "outputs": [],
   "source": [
    "#pytorch convolution algorithm\n",
    "image=ReadDataFromTif(nframes,h,w)\n",
    "image=image-np.min(image)\n",
    "image=image/np.max(image)\n",
    "norm_offset=np.mean(image)\n",
    "image=image-norm_offset\n",
    "print(np.max(image),np.min(image))\n",
    "\n",
    "pattern_distance_map=np.zeros((20*CURVATURE_ITERATION,FRAME_SIZE,FRAME_SIZE))\n",
    "for curvature in range(CURVATURE_ITERATION):\n",
    "    for angle in range(20):\n",
    "        pattern_distance_map[angle + 20 * curvature, :, :] = LayerGeneration.GenerateTopLayerWeights(angle*0.314, curvature*CURVATURE_INCREMENT)-norm_offset\n",
    "#pd = ((int((Second_Layer_Kernel_Size-1)/2),int((Second_Layer_Kernel_Size-1)/2)),(int((Second_Layer_Kernel_Size-1)/2),int((Second_Layer_Kernel_Size-1)/2)),(int(Second_Layer_Kernel_Size/4),int(Second_Layer_Kernel_Size/4)))\n",
    "#image=np.pad(image,pd,mode='reflect')\n",
    "\n",
    "imsave('C:/Users/brian/Documents/Layer1_Pattern.tif',pattern_distance_map.astype(float))\n",
    "Layer1out = np.zeros((image.shape[2],3,image.shape[0]+1,image.shape[1]+1))\n",
    "for frame in range(image.shape[2]):\n",
    "    Layer1out_map = Layer1TorchConv(image[:,:,frame],pattern_distance_map,False)\n",
    "    Layer1out[frame,0,:,:]=Layer1out_map"
   ]
  },
  {
   "cell_type": "code",
   "execution_count": 99,
   "id": "db048798",
   "metadata": {},
   "outputs": [],
   "source": [
    "pattern_foreground=np.ones((FRAME_SIZE,FRAME_SIZE))-norm_offset\n",
    "pattern_background=np.zeros((FRAME_SIZE,FRAME_SIZE))-norm_offset\n",
    "for frame in range(image.shape[2]):\n",
    "    foreground_layer1_out=Layer1TorchConv(image[:,:,frame],pattern_foreground,False)\n",
    "    background_layer1_out=Layer1TorchConv(image[:,:,frame],pattern_background,False)\n",
    "    Layer1out[frame,1,:,:]=foreground_layer1_out\n",
    "    Layer1out[frame,2,:,:]=background_layer1_out"
   ]
  },
  {
   "cell_type": "code",
   "execution_count": 100,
   "id": "78a2e4b5",
   "metadata": {},
   "outputs": [
    {
     "name": "stdout",
     "output_type": "stream",
     "text": [
      "151.64198303222656 -30.42850112915039\n",
      "612.6220703125 -105.72229766845703\n",
      "8.125062942504883 -46.902801513671875\n",
      "1.0 0.5\n"
     ]
    }
   ],
   "source": [
    "for i in range(3):\n",
    "    print(np.max(Layer1out[:,i,:,:]),np.min(Layer1out[:,i,:,:]))\n",
    "    Layer1out[:,i,:,:]=Layer1out[:,i,:,:]-np.min(Layer1out[:,i,:,:])\n",
    "    Layer1out[:,i,:,:]=Layer1out[:,i,:,:]/np.max(Layer1out[:,i,:,:])\n",
    "Layer1out[:,2,:,:]=Layer1out[:,2,:,:]*0.5\n",
    "Layer1out[:,0,:,:]=Layer1out[:,0,:,:]*0.9"
   ]
  },
  {
   "cell_type": "code",
   "execution_count": null,
   "metadata": {},
   "outputs": [],
   "source": [
    "Layer1out[:,2,:,:] = Layer1out[:,2,:,:] * (np.max(image) - image)\n",
    "Layer1out[:,1,:,:] = Layer1out[:,1,:,:] * (image + norm_offset)\n",
    "Layer1out[:,0,:,:] = Layer1out[:,0,:,:] * (image + norm_offset)"
   ]
  },
  {
   "cell_type": "code",
   "execution_count": 102,
   "id": "a06903c8",
   "metadata": {},
   "outputs": [],
   "source": [
    "Layer1out_max_index=np.argmax(Layer1out,axis=1)\n",
    "Layer1out_mask=np.zeros(Layer1out.shape)\n",
    "for i in range(3):\n",
    "    Layer1out_mask[:,i,:,:]=(Layer1out_max_index==i)\n",
    "imsave('C:/Users/brian/Documents/Layer1_Segmentation_Mask.tif',Layer1out_mask.astype(float))\n",
    "imsave('C:/Users/brian/Documents/Layer1_Segmentation.tif',Layer1out)"
   ]
  },
  {
   "cell_type": "code",
   "execution_count": 6,
   "id": "32b43ecf",
   "metadata": {},
   "outputs": [
    {
     "name": "stdout",
     "output_type": "stream",
     "text": [
      "[1 1 1 1 1 1 1 1 1 1 1 1 1 1 1 1 1 1 1 1 1 1 1 1 1 1 1 1 1 1 1 1 1 1 1 1 1\n",
      " 1 1 1 1 1 1 1 1 1 1 1 1 1 0 0 0 0 0 0 0 0 0 0 0 0 0 0 0 0 0 0 0 0 0 0 0 0\n",
      " 0 0 0 0 0 0 0 0 0 0 0 0 0 0 0 0 0 0 0 0 0 0 0 0 0 0]\n"
     ]
    }
   ],
   "source": [
    "import numpy as np\n",
    "test_array=np.zeros((2,100))\n",
    "test_array[0,:]=np.linspace(1,100,100)\n",
    "test_array[1,:]=np.linspace(100,1,100)\n",
    "max_i=np.argmax(test_array,axis=0)\n",
    "print(max_i)"
   ]
  },
  {
   "cell_type": "code",
   "execution_count": 47,
   "id": "474223ea",
   "metadata": {},
   "outputs": [
    {
     "name": "stdout",
     "output_type": "stream",
     "text": [
      "0.0 220.7521209716797\n"
     ]
    }
   ],
   "source": [
    "Layer1outmask=Layer1out[:,0,:,:]\n",
    "print(np.min(Layer1outmask),np.max(Layer1outmask))\n",
    "Layer1outmask=Layer1outmask-np.min(Layer1outmask)-(np.max(Layer1outmask)-np.min(Layer1outmask))*1/10\n",
    "Layer1outmask[Layer1outmask<0]=0\n",
    "\n",
    "#Layer1outmask = np.flip(Layer1outmask, axis=(1, 2))\n",
    "imsave('C:/Users/v-brianma/Neuron Reconstruction/Layer1ConvOut.tif',Layer1outmask)"
   ]
  },
  {
   "cell_type": "code",
   "execution_count": 51,
   "id": "48568852",
   "metadata": {},
   "outputs": [
    {
     "name": "stdout",
     "output_type": "stream",
     "text": [
      "(210, 663, 663)\n",
      "0.0 198.67690887451172\n"
     ]
    },
    {
     "data": {
      "text/plain": [
       "<matplotlib.image.AxesImage at 0x272e11d1b20>"
      ]
     },
     "execution_count": 51,
     "metadata": {},
     "output_type": "execute_result"
    },
    {
     "data": {
      "image/png": "[encoded data removed]",
      "text/plain": [
       "<Figure size 432x288 with 1 Axes>"
      ]
     },
     "metadata": {
      "needs_background": "light"
     },
     "output_type": "display_data"
    }
   ],
   "source": [
    "print(Layer1outmask.shape)\n",
    "print(np.min(Layer1outmask),np.max(Layer1outmask))\n",
    "plt.imshow(Layer1outmask[110,:,:])"
   ]
  },
  {
   "cell_type": "code",
   "execution_count": null,
   "id": "4b526a66",
   "metadata": {},
   "outputs": [
    {
     "name": "stdout",
     "output_type": "stream",
     "text": [
      "(75, 151, 151) (210, 663, 663)\n"
     ]
    }
   ],
   "source": [
    "pattern2=LayerGeneration.GenerateSecondLayerWeights(70)\n",
    "print(pattern2.shape,Layer1out[:,0,:,:].shape)\n"
   ]
  },
  {
   "cell_type": "code",
   "execution_count": null,
   "id": "a5bb0e66",
   "metadata": {},
   "outputs": [
    {
     "name": "stdout",
     "output_type": "stream",
     "text": [
      "(210, 663, 663)\n",
      "start layer2\n",
      "end layer2\n"
     ]
    }
   ],
   "source": [
    "Layer2out_map = Layer2torchConv(Layer1outmask-np.mean(Layer1outmask),pattern2)"
   ]
  },
  {
   "cell_type": "code",
   "execution_count": null,
   "id": "7e8808e5",
   "metadata": {},
   "outputs": [],
   "source": [
    "Layer2out_mask=Layer2out_map[0,0,:,:,:]\n",
    "Layer2out_mask=Layer2out_mask-np.min(Layer2out_mask)-(np.max(Layer2out_mask)-np.min(Layer2out_mask))*1/2\n",
    "Layer2out_mask=250*Layer2out_mask/np.max(Layer2out_mask)\n",
    "Layer2out_mask=-Layer2out_mask.astype(int)\n",
    "Layer2out_mask[Layer2out_mask<0]=0\n",
    "imsave('C:/Users/brian/Documents/Layer2ConvOut.tif',Layer2out_mask)"
   ]
  },
  {
   "cell_type": "code",
   "execution_count": null,
   "id": "98a662c6",
   "metadata": {},
   "outputs": [
    {
     "name": "stdout",
     "output_type": "stream",
     "text": [
      "layer13 start\n",
      "layer3 end\n"
     ]
    }
   ],
   "source": [
    "pattern3=LayerGeneration.GenerateThirdLayerWeights(70)\n",
    "Layer3out_map = Layer3torchConv(Layer2out_map-np.mean(Layer2out_map),pattern3,141)"
   ]
  },
  {
   "cell_type": "code",
   "execution_count": null,
   "id": "dc4ba9fc",
   "metadata": {},
   "outputs": [],
   "source": [
    "Layer3out_mask = Layer3out_map[0,0,:,:,:]\n",
    "Layer3out_mask=Layer3out_mask-np.min(Layer3out_mask)-(np.max(Layer3out_mask)-np.min(Layer3out_mask))*1/2\n",
    "Layer3out_mask=250*Layer3out_mask/np.max(Layer3out_mask)\n",
    "Layer3out_mask=-Layer3out_mask.astype(int)\n",
    "Layer3out_mask[Layer3out_mask<0]=0\n",
    "imsave('C:/Users/brian/Documents/Layer3ConvOut.tif',Layer3out_mask)"
   ]
  },
  {
   "cell_type": "code",
   "execution_count": null,
   "id": "47272e67",
   "metadata": {},
   "outputs": [],
   "source": []
  }
 ],
 "metadata": {
  "interpreter": {
   "hash": "1baa965d5efe3ac65b79dfc60c0d706280b1da80fedb7760faf2759126c4f253"
  },
  "kernelspec": {
   "display_name": "Python 3.8.5 64-bit",
   "name": "python3"
  },
  "language_info": {
   "codemirror_mode": {
    "name": "ipython",
    "version": 3
   },
   "file_extension": ".py",
   "mimetype": "text/x-python",
   "name": "python",
   "nbconvert_exporter": "python",
   "pygments_lexer": "ipython3",
   "version": "3.8.5"
  }
 },
 "nbformat": 4,
 "nbformat_minor": 5
}
