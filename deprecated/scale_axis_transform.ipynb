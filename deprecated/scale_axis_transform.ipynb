{
 "cells": [
  {
   "cell_type": "code",
   "execution_count": 1,
   "metadata": {
    "scrolled": true
   },
   "outputs": [
    {
     "name": "stdout",
     "output_type": "stream",
     "text": [
      "155265\n",
      "0\n",
      "5000\n",
      "10000\n",
      "15000\n",
      "20000\n",
      "25000\n",
      "30000\n",
      "35000\n",
      "40000\n",
      "45000\n",
      "50000\n",
      "55000\n",
      "60000\n",
      "65000\n",
      "70000\n",
      "75000\n",
      "80000\n",
      "85000\n",
      "90000\n",
      "95000\n",
      "100000\n",
      "105000\n",
      "110000\n",
      "115000\n",
      "120000\n",
      "125000\n",
      "130000\n"
     ]
    }
   ],
   "source": [
    "from scipy import ndimage as ndi\n",
    "from scipy.spatial import distance\n",
    "import numpy as np\n",
    "\n",
    "\n",
    "img = np.load('C:/Users/brian/Documents/thresholding.npy')\n",
    "skeleton = np.load('C:/Users/brian/Documents/skeleton.npy')\n",
    "skeleton = skeleton.astype(np.bool)\n",
    "img = img.astype(np.bool)\n",
    "\n",
    "distance_transform = ndi.distance_transform_edt(img)\n",
    "distance_transform = distance_transform[skeleton]\n",
    "distance_transform = distance_transform * 1.6\n",
    "sort_index = np.argsort(distance_transform)\n",
    "sort_index = np.flip(sort_index,axis=0)\n",
    "\n",
    "i, j, k = np.mgrid[0:img.shape[0], 0:img.shape[1], 0:img.shape[2]]\n",
    "i = i[skeleton]\n",
    "j = j[skeleton]\n",
    "k = k[skeleton]\n",
    "l = 0\n",
    "print(len(sort_index))\n",
    "while l<(len(sort_index)-1):\n",
    "    if(l%5000==0):\n",
    "        print(l)\n",
    "    mask = np.ones(len(sort_index),dtype=np.bool)\n",
    "    radius = np.ceil(distance_transform[sort_index[l]])\n",
    "    x = i[sort_index[l]]\n",
    "    y = j[sort_index[l]]\n",
    "    z = k[sort_index[l]]\n",
    "    inner_loop_index = sort_index[l+1:]\n",
    "    reverse_index1 = np.where((i[inner_loop_index]<x+radius) & (i[inner_loop_index]>x-radius))[0]\n",
    "    inner_loop_index = inner_loop_index[reverse_index1]\n",
    "    reverse_index2 = np.where((j[inner_loop_index]<y+radius) & (j[inner_loop_index]>y-radius))[0]\n",
    "    inner_loop_index = inner_loop_index[reverse_index2]\n",
    "    reverse_index3 = np.where((k[inner_loop_index]<z+radius) & (k[inner_loop_index]>z-radius))[0]\n",
    "    inner_loop_index = inner_loop_index[reverse_index3]\n",
    "    for inner in range(len(inner_loop_index)):\n",
    "        if (distance_transform[sort_index[l]] - distance_transform[inner_loop_index[inner]])>distance.euclidean([x,y,z],[i[inner_loop_index[inner]],j[inner_loop_index[inner]],k[inner_loop_index[inner]]]):\n",
    "            mask[reverse_index1[reverse_index2[reverse_index3[inner]]]+l+1] = False\n",
    "    sort_index = sort_index[mask]\n",
    "    l = l + 1\n",
    "\n",
    "i = i[sort_index]\n",
    "j = j[sort_index]\n",
    "k = k[sort_index]"
   ]
  },
  {
   "cell_type": "code",
   "execution_count": 2,
   "metadata": {},
   "outputs": [
    {
     "name": "stdout",
     "output_type": "stream",
     "text": [
      "131531\n"
     ]
    }
   ],
   "source": [
    "print(len(sort_index))\n"
   ]
  },
  {
   "cell_type": "code",
   "execution_count": 3,
   "metadata": {},
   "outputs": [],
   "source": [
    "from tifffile import imsave\n",
    "\n",
    "scaled_distance_skeleton = np.zeros(img.shape)\n",
    "for l in range(len(i)):\n",
    "    scaled_distance_skeleton[i[l], j[l], k[l]] = 255\n",
    "scaled_distance_skeleton = np.einsum('ijk->kij', scaled_distance_skeleton)\n",
    "scaled_distance_skeleton = np.flip(scaled_distance_skeleton, axis=(1, 2))\n",
    "imsave('C:/Users/brian/Documents/scaled_distance_skeleton.tif',scaled_distance_skeleton)"
   ]
  },
  {
   "cell_type": "code",
   "execution_count": null,
   "metadata": {},
   "outputs": [],
   "source": []
  },
  {
   "cell_type": "code",
   "execution_count": null,
   "metadata": {},
   "outputs": [],
   "source": []
  },
  {
   "cell_type": "code",
   "execution_count": null,
   "metadata": {},
   "outputs": [],
   "source": []
  }
 ],
 "metadata": {
  "kernelspec": {
   "display_name": "Python 3",
   "language": "python",
   "name": "python3"
  },
  "language_info": {
   "codemirror_mode": {
    "name": "ipython",
    "version": 3
   },
   "file_extension": ".py",
   "mimetype": "text/x-python",
   "name": "python",
   "nbconvert_exporter": "python",
   "pygments_lexer": "ipython3",
   "version": "3.8.5"
  }
 },
 "nbformat": 4,
 "nbformat_minor": 4
}
