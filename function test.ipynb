{
 "cells": [
  {
   "cell_type": "code",
   "execution_count": 1,
   "id": "6d8bcc49",
   "metadata": {},
   "outputs": [
    {
     "name": "stdout",
     "output_type": "stream",
     "text": [
      "100\n",
      "\n",
      "|----------------------------------------------------------------------------------------------------|       soma(0-1)\n",
      "\n"
     ]
    },
    {
     "data": {
      "text/plain": [
       "1.0"
      ]
     },
     "execution_count": 1,
     "metadata": {},
     "output_type": "execute_result"
    }
   ],
   "source": [
    "from neuron import h\n",
    "import numpy as np\n",
    "soma = h.Section(name='soma')\n",
    "soma.nseg = 100\n",
    "soma.Ra = 100\n",
    "soma.L = 1000\n",
    "diam = np.random.randint(1,10,101)\n",
    "for i,seg in enumerate(soma.allseg()):\n",
    "    seg.diam = diam[i-1]\n",
    "theta = np.linspace(0, 1000, 100)\n",
    "print(np.size(theta))\n",
    "y = 17 * np.sin(theta)\n",
    "z = 17 * np.cos(theta)\n",
    "xvec = h.Vector(theta)\n",
    "yvec = h.Vector(y)\n",
    "zvec = h.Vector(z)\n",
    "dvec = h.Vector([1] * len(theta))\n",
    "h.pt3dadd(xvec, yvec, zvec, dvec, sec=soma)\n",
    "\n",
    "soma.insert('hh')\n",
    "for i,seg in enumerate(soma):\n",
    "    seg.hh.gnabar = 0.12  # Sodium conductance in S/cm2\n",
    "    seg.hh.gkbar = 0.036  # Potassium conductance in S/cm2\n",
    "    seg.hh.gl = 0.0003    # Leak conductance in S/cm2\n",
    "    seg.hh.el = -54.3     # Reversal potential in mV\n",
    "#stim = h.IClamp(soma(0.5))\n",
    "#stim.delay = 10\n",
    "#stim.dur = 1\n",
    "#stim.amp = 0.001\n",
    "\n",
    "v_vec = h.Vector()        # Membrane potential vector\n",
    "t_vec = h.Vector()        # Time stamp vector\n",
    "v_vec.record(soma(0.5)._ref_v)\n",
    "t_vec.record(h._ref_t)\n",
    "simdur = 25.0\n",
    "h.load_file('stdrun.hoc')\n",
    "h.finitialize(-70)\n",
    "h.continuerun(40)\n",
    "h.topology()"
   ]
  },
  {
   "cell_type": "code",
   "execution_count": 6,
   "id": "f1bb65a1",
   "metadata": {},
   "outputs": [],
   "source": [
    "from mayavi import mlab\n",
    "for i in range(100):\n",
    "    mlab.plot3d(theta,y,z,tube_radius = diam[i])\n",
    "mlab.show()"
   ]
  }
 ],
 "metadata": {
  "interpreter": {
   "hash": "1baa965d5efe3ac65b79dfc60c0d706280b1da80fedb7760faf2759126c4f253"
  },
  "kernelspec": {
   "display_name": "Python 3.8.5 64-bit",
   "name": "python3"
  },
  "language_info": {
   "codemirror_mode": {
    "name": "ipython",
    "version": 3
   },
   "file_extension": ".py",
   "mimetype": "text/x-python",
   "name": "python",
   "nbconvert_exporter": "python",
   "pygments_lexer": "ipython3",
   "version": "3.7.11"
  }
 },
 "nbformat": 4,
 "nbformat_minor": 5
}
