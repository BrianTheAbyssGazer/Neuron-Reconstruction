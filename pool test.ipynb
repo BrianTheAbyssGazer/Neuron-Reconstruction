{
 "cells": [
  {
   "cell_type": "code",
   "execution_count": 2,
   "id": "4c487283",
   "metadata": {},
   "outputs": [
    {
     "name": "stdout",
     "output_type": "stream",
     "text": [
      "0.9307008403049115 -0.06929915969508844\n"
     ]
    }
   ],
   "source": [
    "import numpy as np\n",
    "from tifffile import imsave\n",
    "from PIL import Image\n",
    "import torch\n",
    "img = Image.open('images/nTracer sample.tif')\n",
    "h, w = np.shape(img)\n",
    "nframes = int(img.n_frames/4)\n",
    "\n",
    "def ReadDataFromTif(nframes, h, w):\n",
    "    img_r = np.zeros((h, w, nframes))\n",
    "    img_g = np.zeros((h, w, nframes))\n",
    "    img_b = np.zeros((h, w, nframes))\n",
    "    img_a = np.zeros((h, w, nframes))\n",
    "    for i in range(nframes):\n",
    "        img.seek(i*4)\n",
    "        img_r[:, :, i] = np.array(img)\n",
    "        img.seek(i * 4 + 1)\n",
    "        img_g[:, :, i] = np.array(img)\n",
    "        img.seek(i * 4 + 2)\n",
    "        img_b[:, :, i] = np.array(img)\n",
    "        img.seek(i * 4 + 3)\n",
    "        img_a[:, :, i] = np.array(img)\n",
    "    img_rgba = np.max(np.stack([img_r, img_g, img_b, img_a]), axis=0)\n",
    "    return img_rgba\n",
    "\n",
    "#pytorch convolution algorithm\n",
    "image=ReadDataFromTif(nframes,h,w)\n",
    "image=image-np.min(image)\n",
    "image=image/np.max(image)\n",
    "norm_offset=np.mean(image)\n",
    "image=image-norm_offset\n",
    "print(np.max(image),np.min(image))\n",
    "\n",
    "image_tensor = torch.zeros(1,1,np.shape(image)[0],np.shape(image)[1],np.shape(image)[2])\n",
    "image_tensor[0,0,:,:,:] = torch.from_numpy(image)\n",
    "pool = torch.nn.AvgPool3d((4,4,2))\n",
    "pooled_image_tensor = pool(image_tensor)\n",
    "pooled_image_tensor = pooled_image_tensor.to('cpu')\n",
    "pooled_image = np.einsum('ijk->kij', pooled_image_tensor.detach().numpy()[0,0,:,:,:])\n",
    "imsave('images/pooled_image.tif',pooled_image.astype(float))"
   ]
  }
 ],
 "metadata": {
  "interpreter": {
   "hash": "1baa965d5efe3ac65b79dfc60c0d706280b1da80fedb7760faf2759126c4f253"
  },
  "kernelspec": {
   "display_name": "Python 3.8.5 64-bit",
   "name": "python3"
  },
  "language_info": {
   "codemirror_mode": {
    "name": "ipython",
    "version": 3
   },
   "file_extension": ".py",
   "mimetype": "text/x-python",
   "name": "python",
   "nbconvert_exporter": "python",
   "pygments_lexer": "ipython3",
   "version": "3.6.13"
  }
 },
 "nbformat": 4,
 "nbformat_minor": 5
}
